{
  "cells": [
    {
      "cell_type": "markdown",
      "metadata": {
        "id": "view-in-github",
        "colab_type": "text"
      },
      "source": [
        "<a href=\"https://colab.research.google.com/github/shane-moxley/accident-fatality-prediction/blob/main/AI4ALL_Car_Accidents_Project.ipynb\" target=\"_parent\"><img src=\"https://colab.research.google.com/assets/colab-badge.svg\" alt=\"Open In Colab\"/></a>"
      ]
    },
    {
      "cell_type": "markdown",
      "metadata": {
        "id": "tqy5U6e1i5jg"
      },
      "source": [
        "Import libraries"
      ]
    },
    {
      "cell_type": "code",
      "execution_count": null,
      "metadata": {
        "id": "3XFdqKtdiz8s"
      },
      "outputs": [],
      "source": [
        "# Data preprocessing and visualization\n",
        "import pandas as pd\n",
        "import seaborn as sns\n",
        "import numpy as np\n",
        "import matplotlib.pyplot as plt\n",
        "from sklearn.preprocessing import MinMaxScaler\n",
        "from sklearn.model_selection import train_test_split\n",
        "from mlxtend.plotting import plot_decision_regions\n",
        "\n",
        "# For KMeans\n",
        "from sklearn.cluster import KMeans as KMeans\n",
        "\n",
        "# For the Random Forest algorithm\n",
        "from sklearn.ensemble import RandomForestClassifier\n",
        "\n",
        "# For the KNN algorithm\n",
        "from sklearn.neighbors import KNeighborsClassifier\n",
        "\n",
        "# For the GaussianNB algorithm\n",
        "from sklearn.naive_bayes import GaussianNB\n",
        "\n",
        "# For the Logistic Regression algorithm\n",
        "from sklearn.linear_model import LogisticRegression\n",
        "\n",
        "%matplotlib inline\n",
        "df = pd.read_csv('https://query.data.world/s/blqa522e3ejv23n7ifrh22574g2nxo')"
      ]
    },
    {
      "cell_type": "markdown",
      "metadata": {
        "id": "Aq2G5Qw7i6sU"
      },
      "source": [
        "Head of uncleaned dataset"
      ]
    },
    {
      "cell_type": "code",
      "execution_count": null,
      "metadata": {
        "colab": {
          "base_uri": "https://localhost:8080/",
          "height": 235
        },
        "id": "eYCVmwN2i6P6",
        "outputId": "44abbf35-b04e-435a-d8e2-5b486f290355"
      },
      "outputs": [
        {
          "data": {
            "text/html": [
              "\n",
              "  <div id=\"df-85484fa2-f187-453c-8fab-54e56512d232\">\n",
              "    <div class=\"colab-df-container\">\n",
              "      <div>\n",
              "<style scoped>\n",
              "    .dataframe tbody tr th:only-of-type {\n",
              "        vertical-align: middle;\n",
              "    }\n",
              "\n",
              "    .dataframe tbody tr th {\n",
              "        vertical-align: top;\n",
              "    }\n",
              "\n",
              "    .dataframe thead th {\n",
              "        text-align: right;\n",
              "    }\n",
              "</style>\n",
              "<table border=\"1\" class=\"dataframe\">\n",
              "  <thead>\n",
              "    <tr style=\"text-align: right;\">\n",
              "      <th></th>\n",
              "      <th>A_CRAINJ</th>\n",
              "      <th>A_CT</th>\n",
              "      <th>A_D15_19</th>\n",
              "      <th>A_D15_20</th>\n",
              "      <th>A_D16_19</th>\n",
              "      <th>A_D16_20</th>\n",
              "      <th>A_D16_24</th>\n",
              "      <th>A_D21_24</th>\n",
              "      <th>A_D65PLS</th>\n",
              "      <th>A_DIST</th>\n",
              "      <th>...</th>\n",
              "      <th>A_SPCRA</th>\n",
              "      <th>A_TOD</th>\n",
              "      <th>BIA</th>\n",
              "      <th>COUNTY</th>\n",
              "      <th>FATALS</th>\n",
              "      <th>INDIAN_RES</th>\n",
              "      <th>SPJ_INDIAN</th>\n",
              "      <th>STATE</th>\n",
              "      <th>ST_CASE</th>\n",
              "      <th>YEAR</th>\n",
              "    </tr>\n",
              "  </thead>\n",
              "  <tbody>\n",
              "    <tr>\n",
              "      <th>0</th>\n",
              "      <td>1</td>\n",
              "      <td>1</td>\n",
              "      <td>2</td>\n",
              "      <td>2</td>\n",
              "      <td>2</td>\n",
              "      <td>2</td>\n",
              "      <td>2</td>\n",
              "      <td>2</td>\n",
              "      <td>1</td>\n",
              "      <td>2</td>\n",
              "      <td>...</td>\n",
              "      <td>2</td>\n",
              "      <td>1</td>\n",
              "      <td>NaN</td>\n",
              "      <td>21</td>\n",
              "      <td>2</td>\n",
              "      <td>NaN</td>\n",
              "      <td>NaN</td>\n",
              "      <td>1</td>\n",
              "      <td>10001</td>\n",
              "      <td>1982</td>\n",
              "    </tr>\n",
              "    <tr>\n",
              "      <th>1</th>\n",
              "      <td>1</td>\n",
              "      <td>1</td>\n",
              "      <td>2</td>\n",
              "      <td>2</td>\n",
              "      <td>2</td>\n",
              "      <td>2</td>\n",
              "      <td>2</td>\n",
              "      <td>2</td>\n",
              "      <td>2</td>\n",
              "      <td>2</td>\n",
              "      <td>...</td>\n",
              "      <td>2</td>\n",
              "      <td>2</td>\n",
              "      <td>NaN</td>\n",
              "      <td>97</td>\n",
              "      <td>1</td>\n",
              "      <td>NaN</td>\n",
              "      <td>NaN</td>\n",
              "      <td>1</td>\n",
              "      <td>10002</td>\n",
              "      <td>1982</td>\n",
              "    </tr>\n",
              "    <tr>\n",
              "      <th>2</th>\n",
              "      <td>1</td>\n",
              "      <td>1</td>\n",
              "      <td>2</td>\n",
              "      <td>2</td>\n",
              "      <td>2</td>\n",
              "      <td>2</td>\n",
              "      <td>2</td>\n",
              "      <td>2</td>\n",
              "      <td>2</td>\n",
              "      <td>2</td>\n",
              "      <td>...</td>\n",
              "      <td>1</td>\n",
              "      <td>1</td>\n",
              "      <td>NaN</td>\n",
              "      <td>103</td>\n",
              "      <td>1</td>\n",
              "      <td>NaN</td>\n",
              "      <td>NaN</td>\n",
              "      <td>1</td>\n",
              "      <td>10003</td>\n",
              "      <td>1982</td>\n",
              "    </tr>\n",
              "    <tr>\n",
              "      <th>3</th>\n",
              "      <td>1</td>\n",
              "      <td>1</td>\n",
              "      <td>1</td>\n",
              "      <td>1</td>\n",
              "      <td>1</td>\n",
              "      <td>1</td>\n",
              "      <td>1</td>\n",
              "      <td>2</td>\n",
              "      <td>2</td>\n",
              "      <td>2</td>\n",
              "      <td>...</td>\n",
              "      <td>1</td>\n",
              "      <td>2</td>\n",
              "      <td>NaN</td>\n",
              "      <td>45</td>\n",
              "      <td>2</td>\n",
              "      <td>NaN</td>\n",
              "      <td>NaN</td>\n",
              "      <td>1</td>\n",
              "      <td>10004</td>\n",
              "      <td>1982</td>\n",
              "    </tr>\n",
              "    <tr>\n",
              "      <th>4</th>\n",
              "      <td>1</td>\n",
              "      <td>1</td>\n",
              "      <td>2</td>\n",
              "      <td>2</td>\n",
              "      <td>2</td>\n",
              "      <td>2</td>\n",
              "      <td>2</td>\n",
              "      <td>2</td>\n",
              "      <td>2</td>\n",
              "      <td>2</td>\n",
              "      <td>...</td>\n",
              "      <td>2</td>\n",
              "      <td>1</td>\n",
              "      <td>NaN</td>\n",
              "      <td>97</td>\n",
              "      <td>1</td>\n",
              "      <td>NaN</td>\n",
              "      <td>NaN</td>\n",
              "      <td>1</td>\n",
              "      <td>10005</td>\n",
              "      <td>1982</td>\n",
              "    </tr>\n",
              "  </tbody>\n",
              "</table>\n",
              "<p>5 rows × 41 columns</p>\n",
              "</div>\n",
              "      <button class=\"colab-df-convert\" onclick=\"convertToInteractive('df-85484fa2-f187-453c-8fab-54e56512d232')\"\n",
              "              title=\"Convert this dataframe to an interactive table.\"\n",
              "              style=\"display:none;\">\n",
              "        \n",
              "  <svg xmlns=\"http://www.w3.org/2000/svg\" height=\"24px\"viewBox=\"0 0 24 24\"\n",
              "       width=\"24px\">\n",
              "    <path d=\"M0 0h24v24H0V0z\" fill=\"none\"/>\n",
              "    <path d=\"M18.56 5.44l.94 2.06.94-2.06 2.06-.94-2.06-.94-.94-2.06-.94 2.06-2.06.94zm-11 1L8.5 8.5l.94-2.06 2.06-.94-2.06-.94L8.5 2.5l-.94 2.06-2.06.94zm10 10l.94 2.06.94-2.06 2.06-.94-2.06-.94-.94-2.06-.94 2.06-2.06.94z\"/><path d=\"M17.41 7.96l-1.37-1.37c-.4-.4-.92-.59-1.43-.59-.52 0-1.04.2-1.43.59L10.3 9.45l-7.72 7.72c-.78.78-.78 2.05 0 2.83L4 21.41c.39.39.9.59 1.41.59.51 0 1.02-.2 1.41-.59l7.78-7.78 2.81-2.81c.8-.78.8-2.07 0-2.86zM5.41 20L4 18.59l7.72-7.72 1.47 1.35L5.41 20z\"/>\n",
              "  </svg>\n",
              "      </button>\n",
              "      \n",
              "  <style>\n",
              "    .colab-df-container {\n",
              "      display:flex;\n",
              "      flex-wrap:wrap;\n",
              "      gap: 12px;\n",
              "    }\n",
              "\n",
              "    .colab-df-convert {\n",
              "      background-color: #E8F0FE;\n",
              "      border: none;\n",
              "      border-radius: 50%;\n",
              "      cursor: pointer;\n",
              "      display: none;\n",
              "      fill: #1967D2;\n",
              "      height: 32px;\n",
              "      padding: 0 0 0 0;\n",
              "      width: 32px;\n",
              "    }\n",
              "\n",
              "    .colab-df-convert:hover {\n",
              "      background-color: #E2EBFA;\n",
              "      box-shadow: 0px 1px 2px rgba(60, 64, 67, 0.3), 0px 1px 3px 1px rgba(60, 64, 67, 0.15);\n",
              "      fill: #174EA6;\n",
              "    }\n",
              "\n",
              "    [theme=dark] .colab-df-convert {\n",
              "      background-color: #3B4455;\n",
              "      fill: #D2E3FC;\n",
              "    }\n",
              "\n",
              "    [theme=dark] .colab-df-convert:hover {\n",
              "      background-color: #434B5C;\n",
              "      box-shadow: 0px 1px 3px 1px rgba(0, 0, 0, 0.15);\n",
              "      filter: drop-shadow(0px 1px 2px rgba(0, 0, 0, 0.3));\n",
              "      fill: #FFFFFF;\n",
              "    }\n",
              "  </style>\n",
              "\n",
              "      <script>\n",
              "        const buttonEl =\n",
              "          document.querySelector('#df-85484fa2-f187-453c-8fab-54e56512d232 button.colab-df-convert');\n",
              "        buttonEl.style.display =\n",
              "          google.colab.kernel.accessAllowed ? 'block' : 'none';\n",
              "\n",
              "        async function convertToInteractive(key) {\n",
              "          const element = document.querySelector('#df-85484fa2-f187-453c-8fab-54e56512d232');\n",
              "          const dataTable =\n",
              "            await google.colab.kernel.invokeFunction('convertToInteractive',\n",
              "                                                     [key], {});\n",
              "          if (!dataTable) return;\n",
              "\n",
              "          const docLinkHtml = 'Like what you see? Visit the ' +\n",
              "            '<a target=\"_blank\" href=https://colab.research.google.com/notebooks/data_table.ipynb>data table notebook</a>'\n",
              "            + ' to learn more about interactive tables.';\n",
              "          element.innerHTML = '';\n",
              "          dataTable['output_type'] = 'display_data';\n",
              "          await google.colab.output.renderOutput(dataTable, element);\n",
              "          const docLink = document.createElement('div');\n",
              "          docLink.innerHTML = docLinkHtml;\n",
              "          element.appendChild(docLink);\n",
              "        }\n",
              "      </script>\n",
              "    </div>\n",
              "  </div>\n",
              "  "
            ],
            "text/plain": [
              "   A_CRAINJ  A_CT  A_D15_19  A_D15_20  A_D16_19  A_D16_20  A_D16_24  A_D21_24  \\\n",
              "0         1     1         2         2         2         2         2         2   \n",
              "1         1     1         2         2         2         2         2         2   \n",
              "2         1     1         2         2         2         2         2         2   \n",
              "3         1     1         1         1         1         1         1         2   \n",
              "4         1     1         2         2         2         2         2         2   \n",
              "\n",
              "   A_D65PLS  A_DIST  ...  A_SPCRA  A_TOD  BIA  COUNTY  FATALS  INDIAN_RES  \\\n",
              "0         1       2  ...        2      1  NaN      21       2         NaN   \n",
              "1         2       2  ...        2      2  NaN      97       1         NaN   \n",
              "2         2       2  ...        1      1  NaN     103       1         NaN   \n",
              "3         2       2  ...        1      2  NaN      45       2         NaN   \n",
              "4         2       2  ...        2      1  NaN      97       1         NaN   \n",
              "\n",
              "   SPJ_INDIAN  STATE  ST_CASE  YEAR  \n",
              "0         NaN      1    10001  1982  \n",
              "1         NaN      1    10002  1982  \n",
              "2         NaN      1    10003  1982  \n",
              "3         NaN      1    10004  1982  \n",
              "4         NaN      1    10005  1982  \n",
              "\n",
              "[5 rows x 41 columns]"
            ]
          },
          "execution_count": 3,
          "metadata": {},
          "output_type": "execute_result"
        }
      ],
      "source": [
        "df.head()"
      ]
    },
    {
      "cell_type": "markdown",
      "metadata": {
        "id": "L4sYAt5AvCa5"
      },
      "source": [
        "Data preprocessing"
      ]
    },
    {
      "cell_type": "code",
      "execution_count": null,
      "metadata": {
        "id": "bc2ff0xroOIl"
      },
      "outputs": [],
      "source": [
        "# see if you can make fatals binary, i.e -- make 1 fatality == 0 and fatalies greater than 1 == 1\n",
        "year_select_df = df[(df['YEAR']  >= 2010)]\n",
        "clean_df = year_select_df[['FATALS','A_CRAINJ','A_CT', 'A_D15_20','A_D21_24','A_D65PLS',\n",
        "                                  'A_DIST', 'A_DOW', 'A_DROWSY', 'A_POSBAC', 'A_SPCRA',\n",
        "                                  'A_TOD', 'YEAR']]                                                               \n",
        "clean_df.rename(columns={'FATALS' : 'FATALITIES', 'A_CRAINJ' : 'INJURY_TYPE', 'A_CT' : 'CRASH_TYPE', 'A_D15_20' : 'BTWN_15_20', 'A_D21_24' : 'BTWN_21_24', 'A_D65PLS' : '65PLS', 'A_DIST' : 'DISTRACTED',\n",
        "                  'A_DOW' : 'DOW', 'A_DROWSY' : 'DROWSY', 'A_POSBAC' : 'POSBAC', 'A_SPCRA' : 'SPEEDING', 'A_TOD' : 'TOD'}, inplace=True)                             \n",
        "# Declares feature vector and target variable\n",
        "X = clean_df\n",
        "y = clean_df['FATALITIES']\n",
        "# Feature scaling\n",
        "cols = X.columns\n",
        "ms = MinMaxScaler()\n",
        "X = ms.fit_transform(X)\n",
        "X = pd.DataFrame(X, columns=[cols])\n",
        "X.head()"
      ]
    },
    {
      "cell_type": "markdown",
      "source": [
        "Preliminary analysis to determine optimal number of clusters for Kmeans"
      ],
      "metadata": {
        "id": "MMv7PhZByJbK"
      }
    },
    {
      "cell_type": "markdown",
      "metadata": {
        "id": "pvQjPZ8pV4JJ"
      },
      "source": [
        "Elbow method to find optimal number of clusters\n"
      ]
    },
    {
      "cell_type": "code",
      "execution_count": null,
      "metadata": {
        "id": "dRZnPSccV9Ch"
      },
      "outputs": [],
      "source": [
        "from sklearn.cluster import KMeans\n",
        "cs = []\n",
        "for i in range(1, 50):\n",
        "    kmeans = KMeans(n_clusters = i, init = 'k-means++', max_iter = 300, n_init = 10, random_state = 0)\n",
        "    kmeans.fit(X)\n",
        "    cs.append(kmeans.inertia_)\n",
        "plt.plot(range(1, 50), cs)\n",
        "plt.title('The Elbow Method')\n",
        "plt.xlabel('Number of clusters')\n",
        "plt.ylabel('CS')\n",
        "plt.show()\n"
      ]
    },
    {
      "cell_type": "markdown",
      "metadata": {
        "id": "TX__VPLUzBx8"
      },
      "source": [
        "Silhouette Method to find optimal number of clusters"
      ]
    },
    {
      "cell_type": "code",
      "execution_count": null,
      "metadata": {
        "id": "LJSO24rLG9UT"
      },
      "outputs": [],
      "source": [
        "import sklearn.cluster as cluster\n",
        "import sklearn.metrics as metrics\n",
        "ss = []\n",
        "for i in range(2, 50):\n",
        "  labels = cluster.KMeans(n_clusters = i, init = \"k-means++\", max_iter = 3000, n_init = 100, random_state = 0).fit(X).labels_\n",
        "  ss.append(metrics.silhouette_score(X, labels, metric = \"euclidean\", sample_size = 1000, random_state = 0))\n",
        "  \n",
        "plt.plot(range(2, 50), ss)\n",
        "plt.title(\"The Silhouette Method\")\n",
        "plt.xlabel(\"Number of Clusters\")\n",
        "plt.ylabel(\"Silhouette Coefficient\")\n",
        "plt.show()\n"
      ]
    },
    {
      "cell_type": "markdown",
      "source": [
        "Creation of KMeans models and analysis of their accuracy"
      ],
      "metadata": {
        "id": "fx9MaySLyc1j"
      }
    },
    {
      "cell_type": "code",
      "source": [
        "scores = []\n",
        "for clusters in range(2,16):\n",
        "  kmeans = KMeans(n_clusters = clusters, random_state = 0)\n",
        "  kmeans.fit(X)\n",
        "  labels = kmeans.labels_\n",
        "  # check how many of the samples were correctly labeled\n",
        "  correct_labels = sum(y == labels)\n",
        "  score = [clusters, correct_labels/float(y.size)]\n",
        "  scores.append(score)\n",
        "KMeans_scores = pd.DataFrame(scores, columns = [\"CLUSTERS\", \"ACCURACY\"])\n",
        "display(KMeans_scores)"
      ],
      "metadata": {
        "id": "OeZZXi9_yirW"
      },
      "execution_count": null,
      "outputs": []
    },
    {
      "cell_type": "markdown",
      "metadata": {
        "id": "o5t-DZskdLgd"
      },
      "source": [
        "Training data set and testing data set selection for KNN and random forest"
      ]
    },
    {
      "cell_type": "code",
      "execution_count": null,
      "metadata": {
        "id": "V8LBlK0iUkad"
      },
      "outputs": [],
      "source": [
        "X, y = clean_df.drop(columns=['FATALS']), clean_df['FATALS']\n",
        "\n",
        "X_train, X_test, y_train, y_test = train_test_split(X, y,\n",
        "                                                    test_size=0.3,\n",
        "                                                    random_state=123,\n",
        "                                                    shuffle=True)\n",
        "print(f'X_train.shape: {X_train.shape}')\n",
        "print(f'y_train.shape: {y_train.shape}')\n",
        "print(f'X_test.shape: {X_test.shape}')\n",
        "print(f'y_test.shape: {y_test.shape}')"
      ]
    },
    {
      "cell_type": "markdown",
      "metadata": {
        "id": "DEO9lTKSdUJO"
      },
      "source": [
        "KNN"
      ]
    },
    {
      "cell_type": "code",
      "execution_count": null,
      "metadata": {
        "id": "iam1UxdZ0wah"
      },
      "outputs": [],
      "source": [
        "fig, axes = plt.subplots(3,figsize=(10,10))\n",
        "classifiers = [KNeighborsClassifier(), GaussianNB(), LogisticRegression()]\n",
        "for model, ax in zip (classifiers, axes):\n",
        "    clf=model.fit(X_train, y_train)\n",
        "    print(\"=====================================\")\n",
        "    print(\"=====================================\")\n",
        "    print(f\"For {model}: \\n\")\n",
        "    print(f'Training set accuracy: {clf.score(X_train, y_train)*100:.2f}%')\n",
        "    print(f'Test set accuracy: {clf.score(X_test, y_test)*100:.2f}%')\n",
        "    plot_decision_regions(X_train, y_train, clf, ax=ax)"
      ]
    },
    {
      "cell_type": "markdown",
      "metadata": {
        "id": "0pcrFEeEdH57"
      },
      "source": [
        "Random Forest"
      ]
    },
    {
      "cell_type": "code",
      "execution_count": null,
      "metadata": {
        "id": "wWbTnOcgdV3X"
      },
      "outputs": [],
      "source": [
        "features_per_tree = [\"sqrt\", \"log2\", None]     #None means max_features = n_features\n",
        "scores =[]\n",
        "y_test.head()\n",
        "for n_trees in range(30, 80, 10):\n",
        "  for n_features in features_per_tree:\n",
        "    model2 = RandomForestClassifier(n_estimators = n_trees, max_features = n_features)\n",
        "    model2.fit(X_train, y_train)\n",
        "    score = [n_trees, n_features, model2.score(X_test, y_test)]\n",
        "    scores.append(score)\n",
        "RFscores = pd.DataFrame(scores, columns=[\"NUM_TREES\", \"FEATS_PER_TREE\", \"ACCURACY\"])\n",
        "display(RFscores)"
      ]
    }
  ],
  "metadata": {
    "colab": {
      "provenance": [],
      "include_colab_link": true
    },
    "kernelspec": {
      "display_name": "Python 3",
      "name": "python3"
    },
    "language_info": {
      "name": "python"
    }
  },
  "nbformat": 4,
  "nbformat_minor": 0
}